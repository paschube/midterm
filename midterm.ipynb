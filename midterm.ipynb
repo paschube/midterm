{
 "cells": [
  {
   "cell_type": "code",
   "execution_count": 77,
   "metadata": {},
   "outputs": [],
   "source": [
    "#importing required packages\n",
    "import requests\n",
    "import json\n",
    "import pandas as pd"
   ]
  },
  {
   "cell_type": "code",
   "execution_count": 11,
   "metadata": {},
   "outputs": [
    {
     "data": {
      "text/plain": [
       "<Response [200]>"
      ]
     },
     "execution_count": 11,
     "metadata": {},
     "output_type": "execute_result"
    }
   ],
   "source": [
    "#posting request to login endpoint with payload as json-string, save response as resp\n",
    "resp = requests.post('https://ies-midterm.soulution.rocks/login', json={'cuni':'97402897'})\n",
    "resp"
   ]
  },
  {
   "cell_type": "code",
   "execution_count": 12,
   "metadata": {},
   "outputs": [
    {
     "data": {
      "text/plain": [
       "'{\"data\": {\"personal_code\": \"a70769c3\", \"dataset_ids\": [\"3bd4cabfaa\", \"288b147f95\", \"f45ec2e9fc\", \"aab8ba99c2\", \"098b83ee51\", \"64a5d99db0\"]}, \"message\": \"Hello, Schubert Paul IN! Good luck with the midterm. GET your data set from /data/file_id endpoint; use the codes you received in the data response as the file_id parameter! Print the personal code in your notebook.\"}'"
      ]
     },
     "execution_count": 12,
     "metadata": {},
     "output_type": "execute_result"
    }
   ],
   "source": [
    "#text of the response\n",
    "resp.text"
   ]
  },
  {
   "cell_type": "code",
   "execution_count": 16,
   "metadata": {},
   "outputs": [
    {
     "name": "stdout",
     "output_type": "stream",
     "text": [
      "dict_keys(['data', 'message'])\n"
     ]
    }
   ],
   "source": [
    "#looking at the keys of the response\n",
    "print(resp.json().keys())"
   ]
  },
  {
   "cell_type": "code",
   "execution_count": 19,
   "metadata": {},
   "outputs": [
    {
     "name": "stdout",
     "output_type": "stream",
     "text": [
      "a70769c3\n"
     ]
    }
   ],
   "source": [
    "#printing personal_code\n",
    "print(resp.json()['data']['personal_code'])"
   ]
  },
  {
   "cell_type": "code",
   "execution_count": 22,
   "metadata": {},
   "outputs": [
    {
     "data": {
      "text/plain": [
       "['3bd4cabfaa',\n",
       " '288b147f95',\n",
       " 'f45ec2e9fc',\n",
       " 'aab8ba99c2',\n",
       " '098b83ee51',\n",
       " '64a5d99db0']"
      ]
     },
     "execution_count": 22,
     "metadata": {},
     "output_type": "execute_result"
    }
   ],
   "source": [
    "#saving list of codes\n",
    "list_codes = resp.json()['data']['dataset_ids']\n",
    "list_codes"
   ]
  },
  {
   "cell_type": "code",
   "execution_count": 55,
   "metadata": {},
   "outputs": [],
   "source": [
    "#get data, store it in the list data\n",
    "data = []\n",
    "for codes in range(len(list_codes)):\n",
    "    data_resp = requests.get(f'https://ies-midterm.soulution.rocks/data/{list_codes[codes]}')\n",
    "    if data_resp.status_code != 200:\n",
    "        while data_resp.status_code != 200:\n",
    "            data_resp = requests.get(f'https://ies-midterm.soulution.rocks/data/{list_codes[codes]}')\n",
    "    data.append(data_resp.json())"
   ]
  },
  {
   "cell_type": "code",
   "execution_count": 64,
   "metadata": {},
   "outputs": [
    {
     "name": "stdout",
     "output_type": "stream",
     "text": [
      "dict_keys(['company', 'data'])\n",
      "dict_keys(['company', 'data'])\n",
      "dict_keys(['company', 'data'])\n",
      "dict_keys(['company', 'data'])\n",
      "dict_keys(['company', 'data'])\n",
      "dict_keys(['company', 'data'])\n"
     ]
    }
   ],
   "source": [
    "#looking at the keys of all 5 datasets\n",
    "for set in range(len(data)):\n",
    "    print(data[set]['data'].keys())"
   ]
  },
  {
   "cell_type": "code",
   "execution_count": 68,
   "metadata": {},
   "outputs": [
    {
     "name": "stdout",
     "output_type": "stream",
     "text": [
      "AUTO\n",
      "JET\n",
      "AAL\n",
      "VOD\n",
      "MRO\n",
      "LAND\n"
     ]
    },
    {
     "data": {
      "text/plain": [
       "['AUTO', 'JET', 'AAL', 'VOD', 'MRO', 'LAND']"
      ]
     },
     "execution_count": 68,
     "metadata": {},
     "output_type": "execute_result"
    }
   ],
   "source": [
    "#look at company names and save them in a list\n",
    "companies = []\n",
    "for set in range(len(data)):\n",
    "    print(data[set]['data']['company'])\n",
    "    companies.append(data[set]['data']['company'])\n",
    "companies"
   ]
  },
  {
   "cell_type": "code",
   "execution_count": 97,
   "metadata": {},
   "outputs": [
    {
     "data": {
      "text/plain": [
       "['Date', 'Open', 'High', 'Low', 'Close', 'Adj.Close', 'Volume']"
      ]
     },
     "execution_count": 97,
     "metadata": {},
     "output_type": "execute_result"
    }
   ],
   "source": [
    "#get column names, save as list\n",
    "column_names = list(data[0]['data']['data'][0].keys())\n",
    "column_names"
   ]
  },
  {
   "cell_type": "code",
   "execution_count": null,
   "metadata": {},
   "outputs": [],
   "source": []
  },
  {
   "cell_type": "code",
   "execution_count": 86,
   "metadata": {},
   "outputs": [
    {
     "data": {
      "text/plain": [
       "'2019-01-02'"
      ]
     },
     "execution_count": 86,
     "metadata": {},
     "output_type": "execute_result"
    }
   ],
   "source": [
    "data[0]['data']['data'][0]['Date']"
   ]
  },
  {
   "cell_type": "code",
   "execution_count": null,
   "metadata": {},
   "outputs": [],
   "source": [
    "#looking at the keys of all 5 datasets\n",
    "for set in range(len(data)):\n",
    "    print(data[set]['data']['data'].keys())"
   ]
  }
 ],
 "metadata": {
  "kernelspec": {
   "display_name": "Python 3",
   "language": "python",
   "name": "python3"
  },
  "language_info": {
   "codemirror_mode": {
    "name": "ipython",
    "version": 3
   },
   "file_extension": ".py",
   "mimetype": "text/x-python",
   "name": "python",
   "nbconvert_exporter": "python",
   "pygments_lexer": "ipython3",
   "version": "3.8.5"
  }
 },
 "nbformat": 4,
 "nbformat_minor": 4
}
