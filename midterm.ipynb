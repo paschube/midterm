{
 "cells": [
  {
   "cell_type": "code",
   "execution_count": 77,
   "metadata": {},
   "outputs": [],
   "source": [
    "#importing required packages\n",
    "import requests\n",
    "import json\n",
    "import pandas as pd"
   ]
  },
  {
   "cell_type": "code",
   "execution_count": 11,
   "metadata": {},
   "outputs": [
    {
     "data": {
      "text/plain": [
       "<Response [200]>"
      ]
     },
     "execution_count": 11,
     "metadata": {},
     "output_type": "execute_result"
    }
   ],
   "source": [
    "#posting request to login endpoint with payload as json-string, save response as resp\n",
    "resp = requests.post('https://ies-midterm.soulution.rocks/login', json={'cuni':'97402897'})\n",
    "resp"
   ]
  },
  {
   "cell_type": "code",
   "execution_count": 12,
   "metadata": {},
   "outputs": [
    {
     "data": {
      "text/plain": [
       "'{\"data\": {\"personal_code\": \"a70769c3\", \"dataset_ids\": [\"3bd4cabfaa\", \"288b147f95\", \"f45ec2e9fc\", \"aab8ba99c2\", \"098b83ee51\", \"64a5d99db0\"]}, \"message\": \"Hello, Schubert Paul IN! Good luck with the midterm. GET your data set from /data/file_id endpoint; use the codes you received in the data response as the file_id parameter! Print the personal code in your notebook.\"}'"
      ]
     },
     "execution_count": 12,
     "metadata": {},
     "output_type": "execute_result"
    }
   ],
   "source": [
    "#text of the response\n",
    "resp.text"
   ]
  },
  {
   "cell_type": "code",
   "execution_count": 16,
   "metadata": {},
   "outputs": [
    {
     "name": "stdout",
     "output_type": "stream",
     "text": [
      "dict_keys(['data', 'message'])\n"
     ]
    }
   ],
   "source": [
    "#looking at the keys of the response\n",
    "print(resp.json().keys())"
   ]
  },
  {
   "cell_type": "code",
   "execution_count": 19,
   "metadata": {},
   "outputs": [
    {
     "name": "stdout",
     "output_type": "stream",
     "text": [
      "a70769c3\n"
     ]
    }
   ],
   "source": [
    "#printing personal_code\n",
    "print(resp.json()['data']['personal_code'])"
   ]
  },
  {
   "cell_type": "code",
   "execution_count": 22,
   "metadata": {},
   "outputs": [
    {
     "data": {
      "text/plain": [
       "['3bd4cabfaa',\n",
       " '288b147f95',\n",
       " 'f45ec2e9fc',\n",
       " 'aab8ba99c2',\n",
       " '098b83ee51',\n",
       " '64a5d99db0']"
      ]
     },
     "execution_count": 22,
     "metadata": {},
     "output_type": "execute_result"
    }
   ],
   "source": [
    "#saving list of codes\n",
    "list_codes = resp.json()['data']['dataset_ids']\n",
    "list_codes"
   ]
  },
  {
   "cell_type": "code",
   "execution_count": 55,
   "metadata": {},
   "outputs": [],
   "source": [
    "#get data, store it in the list data\n",
    "data = []\n",
    "for codes in range(len(list_codes)):\n",
    "    data_resp = requests.get(f'https://ies-midterm.soulution.rocks/data/{list_codes[codes]}')\n",
    "    if data_resp.status_code != 200:\n",
    "        while data_resp.status_code != 200:\n",
    "            data_resp = requests.get(f'https://ies-midterm.soulution.rocks/data/{list_codes[codes]}')\n",
    "    data.append(data_resp.json())"
   ]
  },
  {
   "cell_type": "code",
   "execution_count": 177,
   "metadata": {},
   "outputs": [
    {
     "name": "stdout",
     "output_type": "stream",
     "text": [
      "dict_keys(['company', 'data'])\n",
      "dict_keys(['company', 'data'])\n",
      "dict_keys(['company', 'data'])\n",
      "dict_keys(['company', 'data'])\n",
      "dict_keys(['company', 'data'])\n",
      "dict_keys(['company', 'data'])\n"
     ]
    }
   ],
   "source": [
    "#looking at the keys of all 5 datasets\n",
    "for set in range(len(data)):\n",
    "    print(data[set]['data'].keys())"
   ]
  },
  {
   "cell_type": "code",
   "execution_count": 178,
   "metadata": {},
   "outputs": [
    {
     "name": "stdout",
     "output_type": "stream",
     "text": [
      "AUTO\n",
      "JET\n",
      "AAL\n",
      "VOD\n",
      "MRO\n",
      "LAND\n"
     ]
    },
    {
     "data": {
      "text/plain": [
       "['AUTO', 'JET', 'AAL', 'VOD', 'MRO', 'LAND']"
      ]
     },
     "execution_count": 178,
     "metadata": {},
     "output_type": "execute_result"
    }
   ],
   "source": [
    "#look at company names and save them in a list\n",
    "companies = []\n",
    "for sets in range(len(data)):\n",
    "    print(data[sets]['data']['company'])\n",
    "    companies.append(data[sets]['data']['company'])\n",
    "companies"
   ]
  },
  {
   "cell_type": "code",
   "execution_count": 179,
   "metadata": {},
   "outputs": [
    {
     "data": {
      "text/plain": [
       "['Date', 'Open', 'High', 'Low', 'Close', 'Adj.Close', 'Volume']"
      ]
     },
     "execution_count": 179,
     "metadata": {},
     "output_type": "execute_result"
    }
   ],
   "source": [
    "#get column names, save as list\n",
    "column_names = list(data[0]['data']['data'][0].keys())\n",
    "column_names"
   ]
  },
  {
   "cell_type": "code",
   "execution_count": 180,
   "metadata": {},
   "outputs": [
    {
     "data": {
      "text/html": [
       "<div>\n",
       "<style scoped>\n",
       "    .dataframe tbody tr th:only-of-type {\n",
       "        vertical-align: middle;\n",
       "    }\n",
       "\n",
       "    .dataframe tbody tr th {\n",
       "        vertical-align: top;\n",
       "    }\n",
       "\n",
       "    .dataframe thead th {\n",
       "        text-align: right;\n",
       "    }\n",
       "</style>\n",
       "<table border=\"1\" class=\"dataframe\">\n",
       "  <thead>\n",
       "    <tr style=\"text-align: right;\">\n",
       "      <th></th>\n",
       "    </tr>\n",
       "  </thead>\n",
       "  <tbody>\n",
       "  </tbody>\n",
       "</table>\n",
       "</div>"
      ],
      "text/plain": [
       "Empty DataFrame\n",
       "Columns: []\n",
       "Index: []"
      ]
     },
     "execution_count": 180,
     "metadata": {},
     "output_type": "execute_result"
    }
   ],
   "source": [
    "#setup empty df with column_names\n",
    "df = pd.DataFrame([])\n",
    "df"
   ]
  },
  {
   "cell_type": "code",
   "execution_count": 181,
   "metadata": {},
   "outputs": [],
   "source": [
    "#access every column in every entry of every set, but data into a list, add list to df\n",
    "list_dfs = []\n",
    "for sets in range(len(data)):\n",
    "    for entry in range(len(data[sets]['data']['data'])):\n",
    "        entry_list = []\n",
    "        #entry_df = pd.DataFrame([[0,0,0,0,0,0,0]], columns = column_names)\n",
    "        for columns in range(len(column_names)):\n",
    "            try:\n",
    "                entry_list.append(data[sets]['data']['data'][entry][column_names[columns]])\n",
    "            except:\n",
    "                pass\n",
    "        entry_series = pd.Series(entry_list)\n",
    "        df = df.append(entry_series, ignore_index=True)\n",
    "    list_dfs.append(df)"
   ]
  },
  {
   "cell_type": "code",
   "execution_count": 186,
   "metadata": {},
   "outputs": [
    {
     "data": {
      "text/html": [
       "<div>\n",
       "<style scoped>\n",
       "    .dataframe tbody tr th:only-of-type {\n",
       "        vertical-align: middle;\n",
       "    }\n",
       "\n",
       "    .dataframe tbody tr th {\n",
       "        vertical-align: top;\n",
       "    }\n",
       "\n",
       "    .dataframe thead th {\n",
       "        text-align: right;\n",
       "    }\n",
       "</style>\n",
       "<table border=\"1\" class=\"dataframe\">\n",
       "  <thead>\n",
       "    <tr style=\"text-align: right;\">\n",
       "      <th></th>\n",
       "      <th></th>\n",
       "      <th>0</th>\n",
       "      <th>1</th>\n",
       "      <th>2</th>\n",
       "      <th>3</th>\n",
       "      <th>4</th>\n",
       "      <th>5</th>\n",
       "      <th>6</th>\n",
       "    </tr>\n",
       "  </thead>\n",
       "  <tbody>\n",
       "    <tr>\n",
       "      <th rowspan=\"5\" valign=\"top\">AUTO</th>\n",
       "      <th>0</th>\n",
       "      <td>2019-01-02</td>\n",
       "      <td>3.0199999809265137</td>\n",
       "      <td>3.450000047683716</td>\n",
       "      <td>3.0199999809265137</td>\n",
       "      <td>3.430000066757202</td>\n",
       "      <td>3.430000066757202</td>\n",
       "      <td>18200</td>\n",
       "    </tr>\n",
       "    <tr>\n",
       "      <th>1</th>\n",
       "      <td>2019-01-03</td>\n",
       "      <td>3.200000047683716</td>\n",
       "      <td>3.4200000762939453</td>\n",
       "      <td>3.200000047683716</td>\n",
       "      <td>3.3499999046325684</td>\n",
       "      <td>3.3499999046325684</td>\n",
       "      <td>52000</td>\n",
       "    </tr>\n",
       "    <tr>\n",
       "      <th>2</th>\n",
       "      <td>2019-01-04</td>\n",
       "      <td>3.4100000858306885</td>\n",
       "      <td>3.4200000762939453</td>\n",
       "      <td>3.309999942779541</td>\n",
       "      <td>3.3299999237060547</td>\n",
       "      <td>3.3299999237060547</td>\n",
       "      <td>27200</td>\n",
       "    </tr>\n",
       "    <tr>\n",
       "      <th>3</th>\n",
       "      <td>2019-01-07</td>\n",
       "      <td>3.3499999046325684</td>\n",
       "      <td>3.4200000762939453</td>\n",
       "      <td>3.069999933242798</td>\n",
       "      <td>3.1700000762939453</td>\n",
       "      <td>3.1700000762939453</td>\n",
       "      <td>24800</td>\n",
       "    </tr>\n",
       "    <tr>\n",
       "      <th>4</th>\n",
       "      <td>2019-01-08</td>\n",
       "      <td>3.200000047683716</td>\n",
       "      <td>3.299999952316284</td>\n",
       "      <td>3.0399999618530273</td>\n",
       "      <td>3.1500000953674316</td>\n",
       "      <td>3.1500000953674316</td>\n",
       "      <td>7300</td>\n",
       "    </tr>\n",
       "    <tr>\n",
       "      <th>...</th>\n",
       "      <th>...</th>\n",
       "      <td>...</td>\n",
       "      <td>...</td>\n",
       "      <td>...</td>\n",
       "      <td>...</td>\n",
       "      <td>...</td>\n",
       "      <td>...</td>\n",
       "      <td>...</td>\n",
       "    </tr>\n",
       "    <tr>\n",
       "      <th rowspan=\"5\" valign=\"top\">LAND</th>\n",
       "      <th>2863</th>\n",
       "      <td>2020-11-17</td>\n",
       "      <td>14.5600004196167</td>\n",
       "      <td>14.843000411987305</td>\n",
       "      <td>14.520000457763672</td>\n",
       "      <td>14.739999771118164</td>\n",
       "      <td>14.695181846618652</td>\n",
       "      <td>298700</td>\n",
       "    </tr>\n",
       "    <tr>\n",
       "      <th>2864</th>\n",
       "      <td>2020-11-18</td>\n",
       "      <td>14.899999618530273</td>\n",
       "      <td>15.220000267028809</td>\n",
       "      <td>14.779999732971191</td>\n",
       "      <td>14.800000190734863</td>\n",
       "      <td>14.755000114440918</td>\n",
       "      <td>351800</td>\n",
       "    </tr>\n",
       "    <tr>\n",
       "      <th>2865</th>\n",
       "      <td>2020-11-19</td>\n",
       "      <td>14.770000457763672</td>\n",
       "      <td>14.960000038146973</td>\n",
       "      <td>14.6899995803833</td>\n",
       "      <td>14.960000038146973</td>\n",
       "      <td>14.960000038146973</td>\n",
       "      <td>256100</td>\n",
       "    </tr>\n",
       "    <tr>\n",
       "      <th>2866</th>\n",
       "      <td>2020-11-20</td>\n",
       "      <td>14.960000038146973</td>\n",
       "      <td>15.100000381469727</td>\n",
       "      <td>14.850000381469727</td>\n",
       "      <td>15.029999732971191</td>\n",
       "      <td>15.029999732971191</td>\n",
       "      <td>195800</td>\n",
       "    </tr>\n",
       "    <tr>\n",
       "      <th>2867</th>\n",
       "      <td></td>\n",
       "      <td>NaN</td>\n",
       "      <td>NaN</td>\n",
       "      <td>NaN</td>\n",
       "      <td>NaN</td>\n",
       "      <td>NaN</td>\n",
       "      <td>NaN</td>\n",
       "    </tr>\n",
       "  </tbody>\n",
       "</table>\n",
       "<p>10029 rows × 7 columns</p>\n",
       "</div>"
      ],
      "text/plain": [
       "                    0                   1                   2  \\\n",
       "AUTO 0     2019-01-02  3.0199999809265137   3.450000047683716   \n",
       "     1     2019-01-03   3.200000047683716  3.4200000762939453   \n",
       "     2     2019-01-04  3.4100000858306885  3.4200000762939453   \n",
       "     3     2019-01-07  3.3499999046325684  3.4200000762939453   \n",
       "     4     2019-01-08   3.200000047683716   3.299999952316284   \n",
       "...               ...                 ...                 ...   \n",
       "LAND 2863  2020-11-17    14.5600004196167  14.843000411987305   \n",
       "     2864  2020-11-18  14.899999618530273  15.220000267028809   \n",
       "     2865  2020-11-19  14.770000457763672  14.960000038146973   \n",
       "     2866  2020-11-20  14.960000038146973  15.100000381469727   \n",
       "     2867                             NaN                 NaN   \n",
       "\n",
       "                            3                   4                   5       6  \n",
       "AUTO 0     3.0199999809265137   3.430000066757202   3.430000066757202   18200  \n",
       "     1      3.200000047683716  3.3499999046325684  3.3499999046325684   52000  \n",
       "     2      3.309999942779541  3.3299999237060547  3.3299999237060547   27200  \n",
       "     3      3.069999933242798  3.1700000762939453  3.1700000762939453   24800  \n",
       "     4     3.0399999618530273  3.1500000953674316  3.1500000953674316    7300  \n",
       "...                       ...                 ...                 ...     ...  \n",
       "LAND 2863  14.520000457763672  14.739999771118164  14.695181846618652  298700  \n",
       "     2864  14.779999732971191  14.800000190734863  14.755000114440918  351800  \n",
       "     2865    14.6899995803833  14.960000038146973  14.960000038146973  256100  \n",
       "     2866  14.850000381469727  15.029999732971191  15.029999732971191  195800  \n",
       "     2867                 NaN                 NaN                 NaN     NaN  \n",
       "\n",
       "[10029 rows x 7 columns]"
      ]
     },
     "execution_count": 186,
     "metadata": {},
     "output_type": "execute_result"
    }
   ],
   "source": [
    "big_df = pd.concat(list_dfs, keys = companies)\n",
    "big_df"
   ]
  },
  {
   "cell_type": "code",
   "execution_count": 187,
   "metadata": {},
   "outputs": [
    {
     "data": {
      "text/html": [
       "<div>\n",
       "<style scoped>\n",
       "    .dataframe tbody tr th:only-of-type {\n",
       "        vertical-align: middle;\n",
       "    }\n",
       "\n",
       "    .dataframe tbody tr th {\n",
       "        vertical-align: top;\n",
       "    }\n",
       "\n",
       "    .dataframe thead th {\n",
       "        text-align: right;\n",
       "    }\n",
       "</style>\n",
       "<table border=\"1\" class=\"dataframe\">\n",
       "  <thead>\n",
       "    <tr style=\"text-align: right;\">\n",
       "      <th></th>\n",
       "      <th></th>\n",
       "      <th>Date</th>\n",
       "      <th>Open</th>\n",
       "      <th>High</th>\n",
       "      <th>Low</th>\n",
       "      <th>Close</th>\n",
       "      <th>Adj.Close</th>\n",
       "      <th>Volume</th>\n",
       "    </tr>\n",
       "  </thead>\n",
       "  <tbody>\n",
       "    <tr>\n",
       "      <th rowspan=\"5\" valign=\"top\">AUTO</th>\n",
       "      <th>0</th>\n",
       "      <td>2019-01-02</td>\n",
       "      <td>3.0199999809265137</td>\n",
       "      <td>3.450000047683716</td>\n",
       "      <td>3.0199999809265137</td>\n",
       "      <td>3.430000066757202</td>\n",
       "      <td>3.430000066757202</td>\n",
       "      <td>18200</td>\n",
       "    </tr>\n",
       "    <tr>\n",
       "      <th>1</th>\n",
       "      <td>2019-01-03</td>\n",
       "      <td>3.200000047683716</td>\n",
       "      <td>3.4200000762939453</td>\n",
       "      <td>3.200000047683716</td>\n",
       "      <td>3.3499999046325684</td>\n",
       "      <td>3.3499999046325684</td>\n",
       "      <td>52000</td>\n",
       "    </tr>\n",
       "    <tr>\n",
       "      <th>2</th>\n",
       "      <td>2019-01-04</td>\n",
       "      <td>3.4100000858306885</td>\n",
       "      <td>3.4200000762939453</td>\n",
       "      <td>3.309999942779541</td>\n",
       "      <td>3.3299999237060547</td>\n",
       "      <td>3.3299999237060547</td>\n",
       "      <td>27200</td>\n",
       "    </tr>\n",
       "    <tr>\n",
       "      <th>3</th>\n",
       "      <td>2019-01-07</td>\n",
       "      <td>3.3499999046325684</td>\n",
       "      <td>3.4200000762939453</td>\n",
       "      <td>3.069999933242798</td>\n",
       "      <td>3.1700000762939453</td>\n",
       "      <td>3.1700000762939453</td>\n",
       "      <td>24800</td>\n",
       "    </tr>\n",
       "    <tr>\n",
       "      <th>4</th>\n",
       "      <td>2019-01-08</td>\n",
       "      <td>3.200000047683716</td>\n",
       "      <td>3.299999952316284</td>\n",
       "      <td>3.0399999618530273</td>\n",
       "      <td>3.1500000953674316</td>\n",
       "      <td>3.1500000953674316</td>\n",
       "      <td>7300</td>\n",
       "    </tr>\n",
       "    <tr>\n",
       "      <th>...</th>\n",
       "      <th>...</th>\n",
       "      <td>...</td>\n",
       "      <td>...</td>\n",
       "      <td>...</td>\n",
       "      <td>...</td>\n",
       "      <td>...</td>\n",
       "      <td>...</td>\n",
       "      <td>...</td>\n",
       "    </tr>\n",
       "    <tr>\n",
       "      <th rowspan=\"5\" valign=\"top\">LAND</th>\n",
       "      <th>2863</th>\n",
       "      <td>2020-11-17</td>\n",
       "      <td>14.5600004196167</td>\n",
       "      <td>14.843000411987305</td>\n",
       "      <td>14.520000457763672</td>\n",
       "      <td>14.739999771118164</td>\n",
       "      <td>14.695181846618652</td>\n",
       "      <td>298700</td>\n",
       "    </tr>\n",
       "    <tr>\n",
       "      <th>2864</th>\n",
       "      <td>2020-11-18</td>\n",
       "      <td>14.899999618530273</td>\n",
       "      <td>15.220000267028809</td>\n",
       "      <td>14.779999732971191</td>\n",
       "      <td>14.800000190734863</td>\n",
       "      <td>14.755000114440918</td>\n",
       "      <td>351800</td>\n",
       "    </tr>\n",
       "    <tr>\n",
       "      <th>2865</th>\n",
       "      <td>2020-11-19</td>\n",
       "      <td>14.770000457763672</td>\n",
       "      <td>14.960000038146973</td>\n",
       "      <td>14.6899995803833</td>\n",
       "      <td>14.960000038146973</td>\n",
       "      <td>14.960000038146973</td>\n",
       "      <td>256100</td>\n",
       "    </tr>\n",
       "    <tr>\n",
       "      <th>2866</th>\n",
       "      <td>2020-11-20</td>\n",
       "      <td>14.960000038146973</td>\n",
       "      <td>15.100000381469727</td>\n",
       "      <td>14.850000381469727</td>\n",
       "      <td>15.029999732971191</td>\n",
       "      <td>15.029999732971191</td>\n",
       "      <td>195800</td>\n",
       "    </tr>\n",
       "    <tr>\n",
       "      <th>2867</th>\n",
       "      <td></td>\n",
       "      <td>NaN</td>\n",
       "      <td>NaN</td>\n",
       "      <td>NaN</td>\n",
       "      <td>NaN</td>\n",
       "      <td>NaN</td>\n",
       "      <td>NaN</td>\n",
       "    </tr>\n",
       "  </tbody>\n",
       "</table>\n",
       "<p>10029 rows × 7 columns</p>\n",
       "</div>"
      ],
      "text/plain": [
       "                 Date                Open                High  \\\n",
       "AUTO 0     2019-01-02  3.0199999809265137   3.450000047683716   \n",
       "     1     2019-01-03   3.200000047683716  3.4200000762939453   \n",
       "     2     2019-01-04  3.4100000858306885  3.4200000762939453   \n",
       "     3     2019-01-07  3.3499999046325684  3.4200000762939453   \n",
       "     4     2019-01-08   3.200000047683716   3.299999952316284   \n",
       "...               ...                 ...                 ...   \n",
       "LAND 2863  2020-11-17    14.5600004196167  14.843000411987305   \n",
       "     2864  2020-11-18  14.899999618530273  15.220000267028809   \n",
       "     2865  2020-11-19  14.770000457763672  14.960000038146973   \n",
       "     2866  2020-11-20  14.960000038146973  15.100000381469727   \n",
       "     2867                             NaN                 NaN   \n",
       "\n",
       "                          Low               Close           Adj.Close  Volume  \n",
       "AUTO 0     3.0199999809265137   3.430000066757202   3.430000066757202   18200  \n",
       "     1      3.200000047683716  3.3499999046325684  3.3499999046325684   52000  \n",
       "     2      3.309999942779541  3.3299999237060547  3.3299999237060547   27200  \n",
       "     3      3.069999933242798  3.1700000762939453  3.1700000762939453   24800  \n",
       "     4     3.0399999618530273  3.1500000953674316  3.1500000953674316    7300  \n",
       "...                       ...                 ...                 ...     ...  \n",
       "LAND 2863  14.520000457763672  14.739999771118164  14.695181846618652  298700  \n",
       "     2864  14.779999732971191  14.800000190734863  14.755000114440918  351800  \n",
       "     2865    14.6899995803833  14.960000038146973  14.960000038146973  256100  \n",
       "     2866  14.850000381469727  15.029999732971191  15.029999732971191  195800  \n",
       "     2867                 NaN                 NaN                 NaN     NaN  \n",
       "\n",
       "[10029 rows x 7 columns]"
      ]
     },
     "execution_count": 187,
     "metadata": {},
     "output_type": "execute_result"
    }
   ],
   "source": [
    "#got the df with right column names; problem: no index for where which dataset ends\n",
    "big_df.columns = column_names\n",
    "big_df"
   ]
  },
  {
   "cell_type": "code",
   "execution_count": null,
   "metadata": {},
   "outputs": [],
   "source": [
    "#okay indexes and column names are there"
   ]
  }
 ],
 "metadata": {
  "kernelspec": {
   "display_name": "Python 3",
   "language": "python",
   "name": "python3"
  },
  "language_info": {
   "codemirror_mode": {
    "name": "ipython",
    "version": 3
   },
   "file_extension": ".py",
   "mimetype": "text/x-python",
   "name": "python",
   "nbconvert_exporter": "python",
   "pygments_lexer": "ipython3",
   "version": "3.8.5"
  }
 },
 "nbformat": 4,
 "nbformat_minor": 4
}
